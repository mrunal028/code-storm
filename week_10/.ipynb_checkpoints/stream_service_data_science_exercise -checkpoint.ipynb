{
 "cells": [
  {
   "cell_type": "code",
   "execution_count": 1,
   "metadata": {
    "colab": {
     "base_uri": "https://localhost:8080/"
    },
    "id": "x5PScYUXvEaY",
    "outputId": "84513311-9a11-4ae0-b1fc-f0e785028520"
   },
   "outputs": [
    {
     "name": "stdout",
     "output_type": "stream",
     "text": [
      "Collecting fastapi\n",
      "  Obtaining dependency information for fastapi from https://files.pythonhosted.org/packages/50/b3/b51f09c2ba432a576fe63758bddc81f78f0c6309d9e5c10d194313bf021e/fastapi-0.115.12-py3-none-any.whl.metadata\n",
      "  Downloading fastapi-0.115.12-py3-none-any.whl.metadata (27 kB)\n",
      "Collecting starlette<0.47.0,>=0.40.0 (from fastapi)\n",
      "  Obtaining dependency information for starlette<0.47.0,>=0.40.0 from https://files.pythonhosted.org/packages/8b/0c/9d30a4ebeb6db2b25a841afbb80f6ef9a854fc3b41be131d249a977b4959/starlette-0.46.2-py3-none-any.whl.metadata\n",
      "  Downloading starlette-0.46.2-py3-none-any.whl.metadata (6.2 kB)\n",
      "Requirement already satisfied: pydantic!=1.8,!=1.8.1,!=2.0.0,!=2.0.1,!=2.1.0,<3.0.0,>=1.7.4 in c:\\users\\mrunal\\anaconda3\\lib\\site-packages (from fastapi) (1.10.8)\n",
      "Collecting typing-extensions>=4.8.0 (from fastapi)\n",
      "  Obtaining dependency information for typing-extensions>=4.8.0 from https://files.pythonhosted.org/packages/8b/54/b1ae86c0973cc6f0210b53d508ca3641fb6d0c56823f288d108bc7ab3cc8/typing_extensions-4.13.2-py3-none-any.whl.metadata\n",
      "  Downloading typing_extensions-4.13.2-py3-none-any.whl.metadata (3.0 kB)\n",
      "Collecting anyio<5,>=3.6.2 (from starlette<0.47.0,>=0.40.0->fastapi)\n",
      "  Obtaining dependency information for anyio<5,>=3.6.2 from https://files.pythonhosted.org/packages/a1/ee/48ca1a7c89ffec8b6a0c5d02b89c305671d5ffd8d3c94acf8b8c408575bb/anyio-4.9.0-py3-none-any.whl.metadata\n",
      "  Downloading anyio-4.9.0-py3-none-any.whl.metadata (4.7 kB)\n",
      "Requirement already satisfied: idna>=2.8 in c:\\users\\mrunal\\anaconda3\\lib\\site-packages (from anyio<5,>=3.6.2->starlette<0.47.0,>=0.40.0->fastapi) (3.4)\n",
      "Requirement already satisfied: sniffio>=1.1 in c:\\users\\mrunal\\anaconda3\\lib\\site-packages (from anyio<5,>=3.6.2->starlette<0.47.0,>=0.40.0->fastapi) (1.2.0)\n",
      "Downloading fastapi-0.115.12-py3-none-any.whl (95 kB)\n",
      "   ---------------------------------------- 0.0/95.2 kB ? eta -:--:--\n",
      "   ----------------- ---------------------- 41.0/95.2 kB 991.0 kB/s eta 0:00:01\n",
      "   ---------------------------------------- 95.2/95.2 kB 1.4 MB/s eta 0:00:00\n",
      "Downloading starlette-0.46.2-py3-none-any.whl (72 kB)\n",
      "   ---------------------------------------- 0.0/72.0 kB ? eta -:--:--\n",
      "   ---------------------------------------- 72.0/72.0 kB 2.0 MB/s eta 0:00:00\n",
      "Downloading typing_extensions-4.13.2-py3-none-any.whl (45 kB)\n",
      "   ---------------------------------------- 0.0/45.8 kB ? eta -:--:--\n",
      "   ---------------------------------------- 45.8/45.8 kB ? eta 0:00:00\n",
      "Downloading anyio-4.9.0-py3-none-any.whl (100 kB)\n",
      "   ---------------------------------------- 0.0/100.9 kB ? eta -:--:--\n",
      "   ---------------------------------------- 100.9/100.9 kB 6.0 MB/s eta 0:00:00\n",
      "Installing collected packages: typing-extensions, anyio, starlette, fastapi\n",
      "  Attempting uninstall: typing-extensions\n",
      "    Found existing installation: typing_extensions 4.7.1\n",
      "    Uninstalling typing_extensions-4.7.1:\n",
      "      Successfully uninstalled typing_extensions-4.7.1\n",
      "  Attempting uninstall: anyio\n",
      "    Found existing installation: anyio 3.5.0\n",
      "    Uninstalling anyio-3.5.0:\n",
      "      Successfully uninstalled anyio-3.5.0\n",
      "Successfully installed anyio-4.9.0 fastapi-0.115.12 starlette-0.46.2 typing-extensions-4.13.2\n"
     ]
    },
    {
     "name": "stderr",
     "output_type": "stream",
     "text": [
      "ERROR: pip's dependency resolver does not currently take into account all the packages that are installed. This behaviour is the source of the following dependency conflicts.\n",
      "jupyter-server 1.23.4 requires anyio<4,>=3.1.0, but you have anyio 4.9.0 which is incompatible.\n"
     ]
    }
   ],
   "source": [
    "!pip install fastapi"
   ]
  },
  {
   "cell_type": "code",
   "execution_count": 2,
   "metadata": {
    "colab": {
     "base_uri": "https://localhost:8080/"
    },
    "id": "m86JKiWW4GqR",
    "outputId": "85b1545c-64aa-412d-b924-cd0adba6a8ea"
   },
   "outputs": [
    {
     "name": "stdout",
     "output_type": "stream",
     "text": [
      "Collecting uvicorn\n",
      "  Obtaining dependency information for uvicorn from https://files.pythonhosted.org/packages/5f/38/a5801450940a858c102a7ad9e6150146a25406a119851c993148d56ab041/uvicorn-0.34.1-py3-none-any.whl.metadata\n",
      "  Downloading uvicorn-0.34.1-py3-none-any.whl.metadata (6.5 kB)\n",
      "Requirement already satisfied: click>=7.0 in c:\\users\\mrunal\\anaconda3\\lib\\site-packages (from uvicorn) (8.0.4)\n",
      "Collecting h11>=0.8 (from uvicorn)\n",
      "  Obtaining dependency information for h11>=0.8 from https://files.pythonhosted.org/packages/95/04/ff642e65ad6b90db43e668d70ffb6736436c7ce41fcc549f4e9472234127/h11-0.14.0-py3-none-any.whl.metadata\n",
      "  Downloading h11-0.14.0-py3-none-any.whl.metadata (8.2 kB)\n",
      "Requirement already satisfied: colorama in c:\\users\\mrunal\\anaconda3\\lib\\site-packages (from click>=7.0->uvicorn) (0.4.6)\n",
      "Downloading uvicorn-0.34.1-py3-none-any.whl (62 kB)\n",
      "   ---------------------------------------- 0.0/62.4 kB ? eta -:--:--\n",
      "   ------ --------------------------------- 10.2/62.4 kB ? eta -:--:--\n",
      "   -------------------------- ------------- 41.0/62.4 kB 495.5 kB/s eta 0:00:01\n",
      "   ---------------------------------------- 62.4/62.4 kB 554.9 kB/s eta 0:00:00\n",
      "Downloading h11-0.14.0-py3-none-any.whl (58 kB)\n",
      "   ---------------------------------------- 0.0/58.3 kB ? eta -:--:--\n",
      "   ---------------------------------------- 58.3/58.3 kB 3.2 MB/s eta 0:00:00\n",
      "Installing collected packages: h11, uvicorn\n",
      "Successfully installed h11-0.14.0 uvicorn-0.34.1\n"
     ]
    }
   ],
   "source": [
    "!pip install uvicorn"
   ]
  },
  {
   "cell_type": "code",
   "execution_count": 3,
   "metadata": {
    "id": "4MfM_xzhu7dA"
   },
   "outputs": [],
   "source": [
    "import pandas as pd\n",
    "import matplotlib\n",
    "import matplotlib.pyplot as plt\n",
    "import sklearn\n",
    "import numpy as np\n",
    "from sklearn.model_selection import train_test_split\n",
    "from sklearn.dummy import DummyClassifier\n",
    "from sklearn.model_selection import train_test_split\n",
    "from sklearn.neighbors import KNeighborsClassifier\n",
    "from sklearn.metrics import classification_report, confusion_matrix, accuracy_score, recall_score, precision_score\n",
    "import fastapi\n",
    "from typing import Optional"
   ]
  },
  {
   "cell_type": "code",
   "execution_count": 4,
   "metadata": {
    "colab": {
     "base_uri": "https://localhost:8080/",
     "height": 80
    },
    "id": "tvaasOBau7dB",
    "outputId": "8478431b-b922-4061-c605-353033cd551a"
   },
   "outputs": [
    {
     "data": {
      "text/html": [
       "<style>#sk-container-id-1 {color: black;}#sk-container-id-1 pre{padding: 0;}#sk-container-id-1 div.sk-toggleable {background-color: white;}#sk-container-id-1 label.sk-toggleable__label {cursor: pointer;display: block;width: 100%;margin-bottom: 0;padding: 0.3em;box-sizing: border-box;text-align: center;}#sk-container-id-1 label.sk-toggleable__label-arrow:before {content: \"▸\";float: left;margin-right: 0.25em;color: #696969;}#sk-container-id-1 label.sk-toggleable__label-arrow:hover:before {color: black;}#sk-container-id-1 div.sk-estimator:hover label.sk-toggleable__label-arrow:before {color: black;}#sk-container-id-1 div.sk-toggleable__content {max-height: 0;max-width: 0;overflow: hidden;text-align: left;background-color: #f0f8ff;}#sk-container-id-1 div.sk-toggleable__content pre {margin: 0.2em;color: black;border-radius: 0.25em;background-color: #f0f8ff;}#sk-container-id-1 input.sk-toggleable__control:checked~div.sk-toggleable__content {max-height: 200px;max-width: 100%;overflow: auto;}#sk-container-id-1 input.sk-toggleable__control:checked~label.sk-toggleable__label-arrow:before {content: \"▾\";}#sk-container-id-1 div.sk-estimator input.sk-toggleable__control:checked~label.sk-toggleable__label {background-color: #d4ebff;}#sk-container-id-1 div.sk-label input.sk-toggleable__control:checked~label.sk-toggleable__label {background-color: #d4ebff;}#sk-container-id-1 input.sk-hidden--visually {border: 0;clip: rect(1px 1px 1px 1px);clip: rect(1px, 1px, 1px, 1px);height: 1px;margin: -1px;overflow: hidden;padding: 0;position: absolute;width: 1px;}#sk-container-id-1 div.sk-estimator {font-family: monospace;background-color: #f0f8ff;border: 1px dotted black;border-radius: 0.25em;box-sizing: border-box;margin-bottom: 0.5em;}#sk-container-id-1 div.sk-estimator:hover {background-color: #d4ebff;}#sk-container-id-1 div.sk-parallel-item::after {content: \"\";width: 100%;border-bottom: 1px solid gray;flex-grow: 1;}#sk-container-id-1 div.sk-label:hover label.sk-toggleable__label {background-color: #d4ebff;}#sk-container-id-1 div.sk-serial::before {content: \"\";position: absolute;border-left: 1px solid gray;box-sizing: border-box;top: 0;bottom: 0;left: 50%;z-index: 0;}#sk-container-id-1 div.sk-serial {display: flex;flex-direction: column;align-items: center;background-color: white;padding-right: 0.2em;padding-left: 0.2em;position: relative;}#sk-container-id-1 div.sk-item {position: relative;z-index: 1;}#sk-container-id-1 div.sk-parallel {display: flex;align-items: stretch;justify-content: center;background-color: white;position: relative;}#sk-container-id-1 div.sk-item::before, #sk-container-id-1 div.sk-parallel-item::before {content: \"\";position: absolute;border-left: 1px solid gray;box-sizing: border-box;top: 0;bottom: 0;left: 50%;z-index: -1;}#sk-container-id-1 div.sk-parallel-item {display: flex;flex-direction: column;z-index: 1;position: relative;background-color: white;}#sk-container-id-1 div.sk-parallel-item:first-child::after {align-self: flex-end;width: 50%;}#sk-container-id-1 div.sk-parallel-item:last-child::after {align-self: flex-start;width: 50%;}#sk-container-id-1 div.sk-parallel-item:only-child::after {width: 0;}#sk-container-id-1 div.sk-dashed-wrapped {border: 1px dashed gray;margin: 0 0.4em 0.5em 0.4em;box-sizing: border-box;padding-bottom: 0.4em;background-color: white;}#sk-container-id-1 div.sk-label label {font-family: monospace;font-weight: bold;display: inline-block;line-height: 1.2em;}#sk-container-id-1 div.sk-label-container {text-align: center;}#sk-container-id-1 div.sk-container {/* jupyter's `normalize.less` sets `[hidden] { display: none; }` but bootstrap.min.css set `[hidden] { display: none !important; }` so we also need the `!important` here to be able to override the default hidden behavior on the sphinx rendered scikit-learn.org. See: https://github.com/scikit-learn/scikit-learn/issues/21755 */display: inline-block !important;position: relative;}#sk-container-id-1 div.sk-text-repr-fallback {display: none;}</style><div id=\"sk-container-id-1\" class=\"sk-top-container\"><div class=\"sk-text-repr-fallback\"><pre>DummyClassifier(constant=&#x27;True&#x27;, strategy=&#x27;constant&#x27;)</pre><b>In a Jupyter environment, please rerun this cell to show the HTML representation or trust the notebook. <br />On GitHub, the HTML representation is unable to render, please try loading this page with nbviewer.org.</b></div><div class=\"sk-container\" hidden><div class=\"sk-item\"><div class=\"sk-estimator sk-toggleable\"><input class=\"sk-toggleable__control sk-hidden--visually\" id=\"sk-estimator-id-1\" type=\"checkbox\" checked><label for=\"sk-estimator-id-1\" class=\"sk-toggleable__label sk-toggleable__label-arrow\">DummyClassifier</label><div class=\"sk-toggleable__content\"><pre>DummyClassifier(constant=&#x27;True&#x27;, strategy=&#x27;constant&#x27;)</pre></div></div></div></div></div>"
      ],
      "text/plain": [
       "DummyClassifier(constant='True', strategy='constant')"
      ]
     },
     "execution_count": 4,
     "metadata": {},
     "output_type": "execute_result"
    }
   ],
   "source": [
    "_x = [1]\n",
    "_y = [1]\n",
    "_prediction = [\"True\"]\n",
    "_result = [\"True\"]\n",
    "model = DummyClassifier(strategy=\"constant\", constant=\"True\")\n",
    "model.fit(np.array([_x,_y]).reshape(1, -1), _result)"
   ]
  },
  {
   "cell_type": "code",
   "execution_count": 5,
   "metadata": {
    "id": "RYCWhXGcu7dB"
   },
   "outputs": [],
   "source": [
    "def model_evaluation(y_test, y_pred) :\n",
    "    print('Trained Model Test Data Accuracy Score :',accuracy_score(y_test, y_pred)*100)\n",
    "    testacc=accuracy_score(y_test, y_pred)\n",
    "    testrecall=recall_score(y_test, y_pred, pos_label = 'True')\n",
    "    testprecision=precision_score(y_test, y_pred, pos_label = 'True')\n",
    "    print(' ')\n",
    "    print(classification_report(y_test, y_pred))\n",
    "    return testacc, testrecall, testprecision"
   ]
  },
  {
   "cell_type": "code",
   "execution_count": 6,
   "metadata": {
    "id": "SEw1rP5wu7dC"
   },
   "outputs": [],
   "source": [
    "def create_eval_df(x, y, result) :\n",
    "    data = {\"x\": x, \"y\": y, \"result\": result}\n",
    "    df = pd.DataFrame(data)\n",
    "    eval_df = df.copy()\n",
    "    eval_df[\"predict\"] = model.predict(data[x,y])\n",
    "    eval_df[\"correct\"] = eval_df[\"predict\"] == eval_df[\"result\"]\n",
    "    eval_df[\"correctandtrue\"] = eval_df[\"predict\"].isin([True]) & eval_df[\"result\"].isin([True])\n",
    "    return eval_df"
   ]
  },
  {
   "cell_type": "code",
   "execution_count": 7,
   "metadata": {
    "id": "O_qnaxA6u7dC"
   },
   "outputs": [],
   "source": [
    "app = fastapi.FastAPI()\n",
    "\n",
    "\n",
    "@app.get(\"/predict/\")\n",
    "def predict(id:int = 0 , x:float =0, y:float=0):\n",
    "    print(id, x, y)\n",
    "    _x.insert(id, x)\n",
    "    _y.insert(id, y)\n",
    "    prediction = model.predict(np.array([x,y]).reshape(1, -1))\n",
    "    _prediction.insert(id, prediction[0])\n",
    "    print(prediction[0])\n",
    "    return dict([(\"prediction\", prediction[0])])\n",
    "\n",
    "@app.get(\"/result/\")\n",
    "def result(id:int, result:str):\n",
    "    print(result)\n",
    "    _result.insert(id, result)\n",
    "    return dict([(\"message\", \"Copied result for {}\".format(id))])\n",
    "\n",
    "@app.get(\"/retrain/\")\n",
    "def retrain(last_n:int):\n",
    "    print (\"RETRAINING over last {}\".format(last_n))\n",
    "    #print(_x)\n",
    "    #print(_y)\n",
    "    n = min(last_n, len(_x) - 1)\n",
    "\n",
    "    # Get the arrays for training\n",
    "    X = np.array([_x, _y]).T\n",
    "    Y = np.array(_result)\n",
    "\n",
    "\n",
    "    X_train, X_test, y_train, y_test = train_test_split(X, Y, test_size=0.40)\n",
    "\n",
    "    print(X_train)\n",
    "    print(y_train)\n",
    "\n",
    "    model.fit(X_train, y_train)\n",
    "    y_pred = model.predict(X_test)\n",
    "\n",
    "    #print(X, Y)\n",
    "    X_train, X_test, y_train, y_test = train_test_split(X, Y, test_size=0.40)\n",
    "\n",
    "    print(X_train)\n",
    "    print(y_train)\n",
    "    model.fit(X_train, y_train)\n",
    "    y_pred = model.predict(X_test)\n",
    "    testacc, testrecall, testprecision = model_evaluation(y_test, y_pred)\n",
    "\n",
    "    return {\"message\": \"Model retrained\", \"accuracy\": testacc, \"recall\": testrecall, \"precision\": testprecision}\n",
    "\n",
    "@app.get(\"/new_model/\")\n",
    "def new_model(model:str, last_n:int, strategy:Optional[str] = None, k:Optional[int] = 0):\n",
    "    print(model, last_n, strategy, k)\n",
    "    if model == \"Dummy\" :\n",
    "        model = DummyClassifier(strategy=strategy)\n",
    "    elif model == \"KNN\" :\n",
    "        model = KNeighborsClassifier(k=k)\n",
    "    #model.set_params(model_params)\n",
    "\n",
    "    message = retrain(last_n=last_n)\n",
    "\n",
    "    returns = {\"message\": \"Model trained {}\".format(model), \"train\": message}\n",
    "    print(returns)\n",
    "\n",
    "    return returns\n",
    "\n",
    "#@app.get(\"/evaluate_model/\")\n",
    "#def evaluate_model(last_n:int):\n",
    "#    return {\"message\": \"Item created\", \"last_n\": last_n}"
   ]
  },
  {
   "cell_type": "code",
   "execution_count": 8,
   "metadata": {
    "colab": {
     "base_uri": "https://localhost:8080/"
    },
    "id": "RVCPqW5ou7dC",
    "outputId": "b49a83f6-0278-4c6a-ac80-da1a7b00a17a"
   },
   "outputs": [
    {
     "name": "stdout",
     "output_type": "stream",
     "text": [
      "Dummy 50 stratified 0\n",
      "RETRAINING over last 50\n",
      "[[40  0]\n",
      " [31  1]\n",
      " [41  1]\n",
      " [ 3  1]\n",
      " [34  0]\n",
      " [28  0]\n",
      " [42  0]\n",
      " [32  0]\n",
      " [38  0]\n",
      " [25  1]\n",
      " [48  0]\n",
      " [18  0]\n",
      " [27  1]\n",
      " [12  0]\n",
      " [ 6  0]\n",
      " [20  0]\n",
      " [17  1]\n",
      " [16  0]\n",
      " [45  1]\n",
      " [21  1]\n",
      " [15  1]\n",
      " [19  1]\n",
      " [13  1]\n",
      " [ 4  0]\n",
      " [43  1]\n",
      " [29  1]\n",
      " [46  0]\n",
      " [ 0  0]\n",
      " [22  0]\n",
      " [36  0]]\n",
      "['False' 'False' 'False' 'True' 'False' 'False' 'True' 'False' 'False'\n",
      " 'False' 'True' 'True' 'True' 'True' 'True' 'False' 'False' 'False' 'True'\n",
      " 'True' 'True' 'False' 'False' 'False' 'False' 'False' 'False' 'True'\n",
      " 'False' 'True']\n",
      "[[18  0]\n",
      " [17  1]\n",
      " [14  0]\n",
      " [49  1]\n",
      " [48  0]\n",
      " [ 2  0]\n",
      " [47  1]\n",
      " [24  0]\n",
      " [22  0]\n",
      " [28  0]\n",
      " [ 5  1]\n",
      " [27  1]\n",
      " [ 9  1]\n",
      " [33  1]\n",
      " [42  0]\n",
      " [25  1]\n",
      " [45  1]\n",
      " [ 4  0]\n",
      " [40  0]\n",
      " [32  0]\n",
      " [12  0]\n",
      " [38  0]\n",
      " [46  0]\n",
      " [30  0]\n",
      " [11  1]\n",
      " [21  1]\n",
      " [26  0]\n",
      " [ 8  0]\n",
      " [13  1]\n",
      " [44  0]]\n",
      "['True' 'False' 'False' 'False' 'True' 'False' 'False' 'True' 'False'\n",
      " 'False' 'False' 'True' 'True' 'True' 'True' 'False' 'True' 'False'\n",
      " 'False' 'False' 'True' 'False' 'False' 'True' 'False' 'True' 'False'\n",
      " 'False' 'False' 'False']\n",
      "Trained Model Test Data Accuracy Score : 33.33333333333333\n",
      " \n",
      "              precision    recall  f1-score   support\n",
      "\n",
      "       False       0.00      0.00      0.00        14\n",
      "        True       0.33      1.00      0.50         7\n",
      "\n",
      "    accuracy                           0.33        21\n",
      "   macro avg       0.17      0.50      0.25        21\n",
      "weighted avg       0.11      0.33      0.17        21\n",
      "\n",
      "{'message': \"Model trained DummyClassifier(strategy='stratified')\", 'train': {'message': 'Model retrained', 'accuracy': 0.3333333333333333, 'recall': 1.0, 'precision': 0.3333333333333333}}\n"
     ]
    },
    {
     "name": "stderr",
     "output_type": "stream",
     "text": [
      "C:\\Users\\mrunal\\anaconda3\\Lib\\site-packages\\sklearn\\metrics\\_classification.py:1469: UndefinedMetricWarning: Precision and F-score are ill-defined and being set to 0.0 in labels with no predicted samples. Use `zero_division` parameter to control this behavior.\n",
      "  _warn_prf(average, modifier, msg_start, len(result))\n",
      "C:\\Users\\mrunal\\anaconda3\\Lib\\site-packages\\sklearn\\metrics\\_classification.py:1469: UndefinedMetricWarning: Precision and F-score are ill-defined and being set to 0.0 in labels with no predicted samples. Use `zero_division` parameter to control this behavior.\n",
      "  _warn_prf(average, modifier, msg_start, len(result))\n",
      "C:\\Users\\mrunal\\anaconda3\\Lib\\site-packages\\sklearn\\metrics\\_classification.py:1469: UndefinedMetricWarning: Precision and F-score are ill-defined and being set to 0.0 in labels with no predicted samples. Use `zero_division` parameter to control this behavior.\n",
      "  _warn_prf(average, modifier, msg_start, len(result))\n"
     ]
    },
    {
     "data": {
      "text/plain": [
       "{'message': \"Model trained DummyClassifier(strategy='stratified')\",\n",
       " 'train': {'message': 'Model retrained',\n",
       "  'accuracy': 0.3333333333333333,\n",
       "  'recall': 1.0,\n",
       "  'precision': 0.3333333333333333}}"
      ]
     },
     "execution_count": 8,
     "metadata": {},
     "output_type": "execute_result"
    }
   ],
   "source": [
    "#print(predict(1, 1, 1))\n",
    "#result(1, True)\n",
    "# Populate with synthetic data (add this before calling new_model)\n",
    "for i in range(50):\n",
    "    _x.append(i)\n",
    "    _y.append(i % 2)\n",
    "    _result.append(i % 3 == 0)\n",
    "new_model(\"Dummy\", 50, \"stratified\")"
   ]
  },
  {
   "cell_type": "code",
   "execution_count": 9,
   "metadata": {
    "id": "XHVP1N_nu7dD"
   },
   "outputs": [],
   "source": [
    "@app.get(\"/items/\")\n",
    "async def read_item(skip: int = 0, limit: int = 10):\n",
    "    return {\"skip\": skip, \"limit\": limit}"
   ]
  },
  {
   "cell_type": "code",
   "execution_count": 10,
   "metadata": {
    "id": "03Y-iCthu7dD"
   },
   "outputs": [
    {
     "name": "stderr",
     "output_type": "stream",
     "text": [
      "INFO:     Started server process [2380]\n",
      "INFO:     Waiting for application startup.\n",
      "INFO:     Application startup complete.\n",
      "INFO:     Uvicorn running on http://127.0.0.1:8080 (Press CTRL+C to quit)\n"
     ]
    },
    {
     "name": "stdout",
     "output_type": "stream",
     "text": [
      "INFO:     127.0.0.1:64376 - \"GET / HTTP/1.1\" 404 Not Found\n",
      "INFO:     127.0.0.1:64376 - \"GET /favicon.ico HTTP/1.1\" 404 Not Found\n",
      "INFO:     127.0.0.1:64376 - \"GET /docs HTTP/1.1\" 200 OK\n",
      "INFO:     127.0.0.1:64376 - \"GET /openapi.json HTTP/1.1\" 200 OK\n"
     ]
    }
   ],
   "source": [
    "import asyncio\n",
    "import uvicorn\n",
    "\n",
    "if __name__ == \"__main__\":\n",
    "    config = uvicorn.Config(app, port = 8080)\n",
    "    server = uvicorn.Server(config)\n",
    "    loop = asyncio.get_running_loop()\n",
    "    loop.create_task(server.serve())"
   ]
  },
  {
   "cell_type": "code",
   "execution_count": null,
   "metadata": {},
   "outputs": [],
   "source": []
  }
 ],
 "metadata": {
  "colab": {
   "provenance": []
  },
  "kernelspec": {
   "display_name": "Python 3 (ipykernel)",
   "language": "python",
   "name": "python3"
  },
  "language_info": {
   "codemirror_mode": {
    "name": "ipython",
    "version": 3
   },
   "file_extension": ".py",
   "mimetype": "text/x-python",
   "name": "python",
   "nbconvert_exporter": "python",
   "pygments_lexer": "ipython3",
   "version": "3.11.5"
  }
 },
 "nbformat": 4,
 "nbformat_minor": 1
}
