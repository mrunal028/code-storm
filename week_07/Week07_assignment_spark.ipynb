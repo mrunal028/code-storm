{
 "cells": [
  {
   "cell_type": "code",
   "execution_count": 0,
   "metadata": {
    "application/vnd.databricks.v1+cell": {
     "cellMetadata": {
      "byteLimit": 2048000,
      "rowLimit": 10000
     },
     "inputWidgets": {},
     "nuid": "c3c6160f-7ccc-4228-806a-d53bb8b6af8d",
     "showTitle": false,
     "tableResultSettingsMap": {},
     "title": ""
    }
   },
   "outputs": [],
   "source": [
    "import zipfile\n",
    "import os\n",
    "import requests\n",
    "import io\n",
    "import pyspark.sql.functions as F\n",
    "import pyspark.sql.types as T"
   ]
  },
  {
   "cell_type": "code",
   "execution_count": 0,
   "metadata": {
    "application/vnd.databricks.v1+cell": {
     "cellMetadata": {
      "byteLimit": 2048000,
      "rowLimit": 10000
     },
     "inputWidgets": {},
     "nuid": "6fa12afa-2bb4-4231-b974-cab6d81821eb",
     "showTitle": false,
     "tableResultSettingsMap": {},
     "title": ""
    }
   },
   "outputs": [],
   "source": [
    "url = \"https://download.cms.gov/openpayments/PGYR2023_P01302025_01212025.zip\"\n",
    "response = requests.get(url, stream=True)\n",
    "if response.status_code == 200:\n",
    "    buffer = io.BytesIO()\n",
    "    buffer.seek(0)\n",
    "    for chunk in response.iter_content(chunk_size=1024):\n",
    "        if chunk:\n",
    "            buffer.write(chunk)\n",
    "else:\n",
    "    print(f\"Failed to download file. Status code: {response.status_code}\")"
   ]
  },
  {
   "cell_type": "code",
   "execution_count": 0,
   "metadata": {
    "application/vnd.databricks.v1+cell": {
     "cellMetadata": {
      "byteLimit": 2048000,
      "rowLimit": 10000
     },
     "inputWidgets": {},
     "nuid": "b244d365-4f30-4452-8c28-a61312a969b4",
     "showTitle": false,
     "tableResultSettingsMap": {},
     "title": ""
    }
   },
   "outputs": [],
   "source": [
    "temp_dir = os.getcwd()\n",
    "buffer.seek(0)\n",
    "response_1_loaded = False\n",
    "with zipfile.ZipFile(buffer, 'r') as zip_ref:\n",
    "    # Loop through each file in the ZIP archive\n",
    "    for file_name in zip_ref.namelist():\n",
    "        table_name,ext = os.path.splitext(file_name)\n",
    "        if ext.lower() == \".csv\":\n",
    "            temp_path = os.path.join(temp_dir, file_name)\n",
    "            zip_ref.extract(file_name, temp_dir)\n",
    "            df = spark.read.csv(f\"file:{temp_path}\", header=True, inferSchema=True)\n",
    "            df.write.format(\"parquet\").saveAsTable(table_name)\n",
    "    response_1_loaded = True"
   ]
  },
  {
   "cell_type": "code",
   "execution_count": 0,
   "metadata": {
    "application/vnd.databricks.v1+cell": {
     "cellMetadata": {
      "byteLimit": 2048000,
      "rowLimit": 10000
     },
     "inputWidgets": {},
     "nuid": "f04a97ce-a97a-46cb-9867-a15014868ee0",
     "showTitle": false,
     "tableResultSettingsMap": {},
     "title": ""
    }
   },
   "outputs": [],
   "source": [
    "url2 = \"https://download.cms.gov/openpayments/PHPRFL_P01302025_01212025.zip\"\n",
    "response = requests.get(url2, stream=True)\n",
    "\n",
    "if response.status_code == 200:\n",
    "    buffer = io.BytesIO()\n",
    "    buffer.seek(0)\n",
    "    for chunk in response.iter_content(chunk_size=1024):\n",
    "        if chunk:\n",
    "            buffer.write(chunk)\n",
    "else:\n",
    "    print(f\"Failed to download file. Status code: {response.status_code}\")"
   ]
  },
  {
   "cell_type": "code",
   "execution_count": 0,
   "metadata": {
    "application/vnd.databricks.v1+cell": {
     "cellMetadata": {
      "byteLimit": 2048000,
      "rowLimit": 10000
     },
     "inputWidgets": {},
     "nuid": "d3e881e4-c1ec-495a-a968-44350603a2f8",
     "showTitle": false,
     "tableResultSettingsMap": {},
     "title": ""
    }
   },
   "outputs": [],
   "source": [
    "buffer.seek(0)\n",
    "response_2_loaded = False\n",
    "with zipfile.ZipFile(buffer, 'r') as zip_ref:\n",
    "    # Loop through each file in the ZIP archive\n",
    "    for file_name in zip_ref.namelist():\n",
    "        table_name,ext = os.path.splitext(file_name)\n",
    "        if ext.lower() == \".csv\":\n",
    "            temp_path = os.path.join(temp_dir, file_name)\n",
    "            zip_ref.extract(file_name, temp_dir)\n",
    "            df = spark.read.csv(f\"file:{temp_path}\", header=True, inferSchema=True)\n",
    "            df.write.format(\"parquet\").saveAsTable(table_name)\n",
    "    response_2_loaded = False"
   ]
  },
  {
   "cell_type": "code",
   "execution_count": 0,
   "metadata": {
    "application/vnd.databricks.v1+cell": {
     "cellMetadata": {
      "byteLimit": 2048000,
      "rowLimit": 10000
     },
     "inputWidgets": {},
     "nuid": "53dc856d-52f7-46b7-b968-46243eb21233",
     "showTitle": false,
     "tableResultSettingsMap": {},
     "title": ""
    }
   },
   "outputs": [],
   "source": [
    "if response_1_loaded:\n",
    "    payment_df = spark.read.table(f\"default.op_dtl_gnrl_pgyr2023_p01302025_01212025\")\n",
    "else:\n",
    "    PATH = \"dbfs:/user/hive/warehouse/op_dtl_gnrl_pgyr2023_p01302025_01212025\"\n",
    "    payment_df = spark.read.format('parquet').load(PATH)"
   ]
  },
  {
   "cell_type": "code",
   "execution_count": 0,
   "metadata": {
    "application/vnd.databricks.v1+cell": {
     "cellMetadata": {
      "byteLimit": 2048000,
      "rowLimit": 10000
     },
     "inputWidgets": {},
     "nuid": "5ded8aad-dba5-413f-9f53-5be8372f056a",
     "showTitle": false,
     "tableResultSettingsMap": {},
     "title": ""
    }
   },
   "outputs": [
    {
     "output_type": "stream",
     "name": "stdout",
     "output_type": "stream",
     "text": [
      "Out[7]: [StructField('Change_Type', StringType(), True),\n StructField('Covered_Recipient_Type', StringType(), True),\n StructField('Teaching_Hospital_CCN', StringType(), True),\n StructField('Teaching_Hospital_ID', StringType(), True),\n StructField('Teaching_Hospital_Name', StringType(), True),\n StructField('Covered_Recipient_Profile_ID', StringType(), True),\n StructField('Covered_Recipient_NPI', StringType(), True),\n StructField('Covered_Recipient_First_Name', StringType(), True),\n StructField('Covered_Recipient_Middle_Name', StringType(), True),\n StructField('Covered_Recipient_Last_Name', StringType(), True),\n StructField('Covered_Recipient_Name_Suffix', StringType(), True),\n StructField('Recipient_Primary_Business_Street_Address_Line1', StringType(), True),\n StructField('Recipient_Primary_Business_Street_Address_Line2', StringType(), True),\n StructField('Recipient_City', StringType(), True),\n StructField('Recipient_State', StringType(), True),\n StructField('Recipient_Zip_Code', StringType(), True),\n StructField('Recipient_Country', StringType(), True),\n StructField('Recipient_Province', StringType(), True),\n StructField('Recipient_Postal_Code', StringType(), True),\n StructField('Covered_Recipient_Primary_Type_1', StringType(), True),\n StructField('Covered_Recipient_Primary_Type_2', StringType(), True),\n StructField('Covered_Recipient_Primary_Type_3', StringType(), True),\n StructField('Covered_Recipient_Primary_Type_4', StringType(), True),\n StructField('Covered_Recipient_Primary_Type_5', StringType(), True),\n StructField('Covered_Recipient_Primary_Type_6', StringType(), True),\n StructField('Covered_Recipient_Specialty_1', StringType(), True),\n StructField('Covered_Recipient_Specialty_2', StringType(), True),\n StructField('Covered_Recipient_Specialty_3', StringType(), True),\n StructField('Covered_Recipient_Specialty_4', StringType(), True),\n StructField('Covered_Recipient_Specialty_5', StringType(), True),\n StructField('Covered_Recipient_Specialty_6', StringType(), True),\n StructField('Covered_Recipient_License_State_code1', StringType(), True),\n StructField('Covered_Recipient_License_State_code2', StringType(), True),\n StructField('Covered_Recipient_License_State_code3', StringType(), True),\n StructField('Covered_Recipient_License_State_code4', StringType(), True),\n StructField('Covered_Recipient_License_State_code5', StringType(), True),\n StructField('Submitting_Applicable_Manufacturer_or_Applicable_GPO_Name', StringType(), True),\n StructField('Applicable_Manufacturer_or_Applicable_GPO_Making_Payment_ID', StringType(), True),\n StructField('Applicable_Manufacturer_or_Applicable_GPO_Making_Payment_Name', StringType(), True),\n StructField('Applicable_Manufacturer_or_Applicable_GPO_Making_Payment_State', StringType(), True),\n StructField('Applicable_Manufacturer_or_Applicable_GPO_Making_Payment_Country', StringType(), True),\n StructField('Total_Amount_of_Payment_USDollars', StringType(), True),\n StructField('Date_of_Payment', StringType(), True),\n StructField('Number_of_Payments_Included_in_Total_Amount', StringType(), True),\n StructField('Form_of_Payment_or_Transfer_of_Value', StringType(), True),\n StructField('Nature_of_Payment_or_Transfer_of_Value', StringType(), True),\n StructField('City_of_Travel', StringType(), True),\n StructField('State_of_Travel', StringType(), True),\n StructField('Country_of_Travel', StringType(), True),\n StructField('Physician_Ownership_Indicator', StringType(), True),\n StructField('Third_Party_Payment_Recipient_Indicator', StringType(), True),\n StructField('Name_of_Third_Party_Entity_Receiving_Payment_or_Transfer_of_Value', StringType(), True),\n StructField('Charity_Indicator', StringType(), True),\n StructField('Third_Party_Equals_Covered_Recipient_Indicator', StringType(), True),\n StructField('Contextual_Information', StringType(), True),\n StructField('Delay_in_Publication_Indicator', StringType(), True),\n StructField('Record_ID', StringType(), True),\n StructField('Dispute_Status_for_Publication', StringType(), True),\n StructField('Related_Product_Indicator', StringType(), True),\n StructField('Covered_or_Noncovered_Indicator_1', StringType(), True),\n StructField('Indicate_Drug_or_Biological_or_Device_or_Medical_Supply_1', StringType(), True),\n StructField('Product_Category_or_Therapeutic_Area_1', StringType(), True),\n StructField('Name_of_Drug_or_Biological_or_Device_or_Medical_Supply_1', StringType(), True),\n StructField('Associated_Drug_or_Biological_NDC_1', StringType(), True),\n StructField('Associated_Device_or_Medical_Supply_PDI_1', StringType(), True),\n StructField('Covered_or_Noncovered_Indicator_2', StringType(), True),\n StructField('Indicate_Drug_or_Biological_or_Device_or_Medical_Supply_2', StringType(), True),\n StructField('Product_Category_or_Therapeutic_Area_2', StringType(), True),\n StructField('Name_of_Drug_or_Biological_or_Device_or_Medical_Supply_2', StringType(), True),\n StructField('Associated_Drug_or_Biological_NDC_2', StringType(), True),\n StructField('Associated_Device_or_Medical_Supply_PDI_2', StringType(), True),\n StructField('Covered_or_Noncovered_Indicator_3', StringType(), True),\n StructField('Indicate_Drug_or_Biological_or_Device_or_Medical_Supply_3', StringType(), True),\n StructField('Product_Category_or_Therapeutic_Area_3', StringType(), True),\n StructField('Name_of_Drug_or_Biological_or_Device_or_Medical_Supply_3', StringType(), True),\n StructField('Associated_Drug_or_Biological_NDC_3', StringType(), True),\n StructField('Associated_Device_or_Medical_Supply_PDI_3', StringType(), True),\n StructField('Covered_or_Noncovered_Indicator_4', StringType(), True),\n StructField('Indicate_Drug_or_Biological_or_Device_or_Medical_Supply_4', StringType(), True),\n StructField('Product_Category_or_Therapeutic_Area_4', StringType(), True),\n StructField('Name_of_Drug_or_Biological_or_Device_or_Medical_Supply_4', StringType(), True),\n StructField('Associated_Drug_or_Biological_NDC_4', StringType(), True),\n StructField('Associated_Device_or_Medical_Supply_PDI_4', StringType(), True),\n StructField('Covered_or_Noncovered_Indicator_5', StringType(), True),\n StructField('Indicate_Drug_or_Biological_or_Device_or_Medical_Supply_5', StringType(), True),\n StructField('Product_Category_or_Therapeutic_Area_5', StringType(), True),\n StructField('Name_of_Drug_or_Biological_or_Device_or_Medical_Supply_5', StringType(), True),\n StructField('Associated_Drug_or_Biological_NDC_5', StringType(), True),\n StructField('Associated_Device_or_Medical_Supply_PDI_5', StringType(), True),\n StructField('Program_Year', IntegerType(), True),\n StructField('Payment_Publication_Date', StringType(), True)]"
     ]
    }
   ],
   "source": [
    "# Display schema of the payment dataframe\n",
    "payment_df.schema.fields"
   ]
  },
  {
   "cell_type": "code",
   "execution_count": 0,
   "metadata": {
    "application/vnd.databricks.v1+cell": {
     "cellMetadata": {
      "byteLimit": 2048000,
      "rowLimit": 10000
     },
     "inputWidgets": {},
     "nuid": "f964d7d3-c4e0-4eff-a82e-e7d5fc96bb16",
     "showTitle": false,
     "tableResultSettingsMap": {},
     "title": ""
    }
   },
   "outputs": [],
   "source": [
    "# Convert payment amount to float type\n",
    "payment_df = payment_df.withColumn(\"Total_Amount_of_Payment_USDollars\", \n",
    "                                   F.col(\"Total_Amount_of_Payment_USDollars\").cast(T.FloatType()))"
   ]
  },
  {
   "cell_type": "code",
   "execution_count": 0,
   "metadata": {
    "application/vnd.databricks.v1+cell": {
     "cellMetadata": {
      "byteLimit": 2048000,
      "rowLimit": 10000
     },
     "inputWidgets": {},
     "nuid": "9e372203-426a-4ebd-97a4-9626a44afc51",
     "showTitle": false,
     "tableResultSettingsMap": {},
     "title": ""
    }
   },
   "outputs": [],
   "source": [
    "# Filter payments greater than $1000\n",
    "high_value_payments_df = payment_df.filter(F.col(\"Total_Amount_of_Payment_USDollars\") > 1000)"
   ]
  },
  {
   "cell_type": "code",
   "execution_count": 0,
   "metadata": {
    "application/vnd.databricks.v1+cell": {
     "cellMetadata": {
      "byteLimit": 2048000,
      "rowLimit": 10000
     },
     "inputWidgets": {},
     "nuid": "ccaad75d-2cf6-4265-9038-8136a55bbdc8",
     "showTitle": false,
     "tableResultSettingsMap": {},
     "title": ""
    }
   },
   "outputs": [],
   "source": [
    "# Aggregate by payment nature\n",
    "payment_nature_summary_df = high_value_payments_df.groupBy(\"Nature_of_Payment_or_Transfer_of_Value\").agg(\n",
    "    F.count(\"Total_Amount_of_Payment_USDollars\").alias(\"payment_count\"),\n",
    "    F.sum(\"Total_Amount_of_Payment_USDollars\").alias(\"total_payment_sum\")\n",
    ")"
   ]
  },
  {
   "cell_type": "code",
   "execution_count": 0,
   "metadata": {
    "application/vnd.databricks.v1+cell": {
     "cellMetadata": {
      "byteLimit": 2048000,
      "rowLimit": 10000
     },
     "inputWidgets": {},
     "nuid": "e639a34c-9f7c-4839-94c1-a3ad9f8b3972",
     "showTitle": false,
     "tableResultSettingsMap": {},
     "title": ""
    }
   },
   "outputs": [
    {
     "output_type": "stream",
     "name": "stdout",
     "output_type": "stream",
     "text": [
      "+--------------------------------------------------------------------------------------------------------------------------------------------------+-------------+--------------------+\n|Nature_of_Payment_or_Transfer_of_Value                                                                                                            |payment_count|total_payment_sum   |\n+--------------------------------------------------------------------------------------------------------------------------------------------------+-------------+--------------------+\n|Compensation for services other than consulting, including serving as faculty or as a speaker at a venue other than a continuing education program|164093       |5.582959709562378E8 |\n|Consulting Fee                                                                                                                                    |105239       |4.819268881451416E8 |\n|Travel and Lodging                                                                                                                                |24793        |5.476596304553223E7 |\n|Honoraria                                                                                                                                         |13750        |5.311015340332031E7 |\n|Education                                                                                                                                         |13376        |5.179660454785156E7 |\n|Royalty or License                                                                                                                                |11538        |1.190650138420227E9 |\n|Compensation for serving as faculty or as a speaker for a medical education program                                                               |8658         |2.762957946057129E7 |\n|Grant                                                                                                                                             |4922         |1.1127899889367676E8|\n|Space rental or facility fees (teaching hospital only)                                                                                            |4917         |2.768891679724121E7 |\n|Long term medical supply or device loan                                                                                                           |2930         |2.9007746673583984E7|\n+--------------------------------------------------------------------------------------------------------------------------------------------------+-------------+--------------------+\n\n"
     ]
    }
   ],
   "source": [
    "# Display top 10 payment natures by count\n",
    "payment_nature_summary_df.orderBy(\"payment_count\", ascending=False).limit(10).show(truncate=False)"
   ]
  },
  {
   "cell_type": "code",
   "execution_count": 0,
   "metadata": {
    "application/vnd.databricks.v1+cell": {
     "cellMetadata": {
      "byteLimit": 2048000,
      "rowLimit": 10000
     },
     "inputWidgets": {},
     "nuid": "9c9d7a6a-3c47-46c6-99bb-9c0b84d1d268",
     "showTitle": false,
     "tableResultSettingsMap": {},
     "title": ""
    }
   },
   "outputs": [
    {
     "output_type": "stream",
     "name": "stdout",
     "output_type": "stream",
     "text": [
      "+--------------------------------------------------------------------------------------------------------------------------------------------------+-------------+--------------------+\n|Nature_of_Payment_or_Transfer_of_Value                                                                                                            |payment_count|total_payment_sum   |\n+--------------------------------------------------------------------------------------------------------------------------------------------------+-------------+--------------------+\n|Royalty or License                                                                                                                                |11538        |1.190650138420227E9 |\n|Compensation for services other than consulting, including serving as faculty or as a speaker at a venue other than a continuing education program|164093       |5.582959709562378E8 |\n|Consulting Fee                                                                                                                                    |105239       |4.819268881451416E8 |\n|Grant                                                                                                                                             |4922         |1.1127899889367676E8|\n|Acquisitions                                                                                                                                      |563          |7.191250424938965E7 |\n|Travel and Lodging                                                                                                                                |24793        |5.476596304553223E7 |\n|Honoraria                                                                                                                                         |13750        |5.311015340332031E7 |\n|Education                                                                                                                                         |13376        |5.179660454785156E7 |\n|Long term medical supply or device loan                                                                                                           |2930         |2.9007746673583984E7|\n|Space rental or facility fees (teaching hospital only)                                                                                            |4917         |2.768891679724121E7 |\n+--------------------------------------------------------------------------------------------------------------------------------------------------+-------------+--------------------+\n\n"
     ]
    }
   ],
   "source": [
    "# Display top 10 payment natures by total amount\n",
    "payment_nature_summary_df.orderBy(\"total_payment_sum\", ascending=False).limit(10).show(truncate=False)"
   ]
  },
  {
   "cell_type": "code",
   "execution_count": 0,
   "metadata": {
    "application/vnd.databricks.v1+cell": {
     "cellMetadata": {
      "byteLimit": 2048000,
      "rowLimit": 10000
     },
     "inputWidgets": {},
     "nuid": "49f15149-e87e-42e0-bd67-f7906b7483ab",
     "showTitle": false,
     "tableResultSettingsMap": {},
     "title": ""
    }
   },
   "outputs": [],
   "source": [
    "# Aggregate by recipient specialty\n",
    "recipient_specialty_summary_df = payment_df.groupBy(\"Covered_Recipient_Specialty_1\").agg(\n",
    "    F.count(\"Total_Amount_of_Payment_USDollars\").alias(\"payment_count\"),\n",
    "    F.sum(\"Total_Amount_of_Payment_USDollars\").alias(\"total_payment_sum\")\n",
    ")\n"
   ]
  },
  {
   "cell_type": "code",
   "execution_count": 0,
   "metadata": {
    "application/vnd.databricks.v1+cell": {
     "cellMetadata": {
      "byteLimit": 2048000,
      "rowLimit": 10000
     },
     "inputWidgets": {},
     "nuid": "3085d349-afdc-4808-9c61-c519a508324b",
     "showTitle": false,
     "tableResultSettingsMap": {},
     "title": ""
    }
   },
   "outputs": [
    {
     "output_type": "stream",
     "name": "stdout",
     "output_type": "stream",
     "text": [
      "+------------------------------------------------------------------------------------------------+-------------+--------------------+\n|Covered_Recipient_Specialty_1                                                                   |payment_count|total_payment_sum   |\n+------------------------------------------------------------------------------------------------+-------------+--------------------+\n|null                                                                                            |30686        |7.936674627555835E8 |\n|Allopathic & Osteopathic Physicians|Orthopaedic Surgery                                         |210504       |4.0345021277223873E8|\n|Allopathic & Osteopathic Physicians|Internal Medicine                                           |1307850      |1.3136300312194332E8|\n|Allopathic & Osteopathic Physicians|Psychiatry & Neurology|Neurology                            |457774       |8.979213624269351E7 |\n|Allopathic & Osteopathic Physicians|Neurological Surgery                                        |78680        |8.608847850082898E7 |\n|Allopathic & Osteopathic Physicians|Dermatology                                                 |454866       |8.320264770937024E7 |\n|Allopathic & Osteopathic Physicians|Internal Medicine|Cardiovascular Disease                    |458369       |7.022084117953089E7 |\n|Allopathic & Osteopathic Physicians|Internal Medicine|Hematology & Oncology                     |307220       |6.946894111538701E7 |\n|Allopathic & Osteopathic Physicians|Orthopaedic Surgery|Adult Reconstructive Orthopaedic Surgery|17768        |6.6772837355176E7   |\n|Allopathic & Osteopathic Physicians|Psychiatry & Neurology|Psychiatry                           |307801       |6.329825408609511E7 |\n+------------------------------------------------------------------------------------------------+-------------+--------------------+\n\n"
     ]
    }
   ],
   "source": [
    "# Display top 10 recipient specialties by total amount\n",
    "recipient_specialty_summary_df.orderBy(\"total_payment_sum\", ascending=False).limit(10).show(truncate=False)"
   ]
  },
  {
   "cell_type": "code",
   "execution_count": 0,
   "metadata": {
    "application/vnd.databricks.v1+cell": {
     "cellMetadata": {
      "byteLimit": 2048000,
      "rowLimit": 10000
     },
     "inputWidgets": {},
     "nuid": "5b522ee4-5f4a-4f5d-bcda-197264ab9705",
     "showTitle": false,
     "tableResultSettingsMap": {},
     "title": ""
    }
   },
   "outputs": [],
   "source": [
    "\n",
    "# Aggregate by recipient primary type\n",
    "recipient_type_summary_df = payment_df.groupBy(\"Covered_Recipient_Primary_Type_1\").agg(\n",
    "    F.count(\"Total_Amount_of_Payment_USDollars\").alias(\"payment_count\"),\n",
    "    F.sum(\"Total_Amount_of_Payment_USDollars\").alias(\"total_payment_sum\")\n",
    ")"
   ]
  },
  {
   "cell_type": "code",
   "execution_count": 0,
   "metadata": {
    "application/vnd.databricks.v1+cell": {
     "cellMetadata": {
      "byteLimit": 2048000,
      "rowLimit": 10000
     },
     "inputWidgets": {},
     "nuid": "9a1511d9-f0f0-4906-a950-e2aeb2555366",
     "showTitle": false,
     "tableResultSettingsMap": {},
     "title": ""
    }
   },
   "outputs": [
    {
     "output_type": "stream",
     "name": "stdout",
     "output_type": "stream",
     "text": [
      "+--------------------------------------+-------------+--------------------+\n|Covered_Recipient_Primary_Type_1      |payment_count|total_payment_sum   |\n+--------------------------------------+-------------+--------------------+\n|Medical Doctor                        |7913524      |2.0401834645222669E9|\n|null                                  |30588        |7.933900793164766E8 |\n|Nurse Practitioner                    |3266415      |1.3546701068595254E8|\n|Doctor of Osteopathy                  |941641       |9.368468839218245E7 |\n|Doctor of Dentistry                   |350066       |8.315500001068492E7 |\n|Physician Assistant                   |1618627      |6.882057343604396E7 |\n|Doctor of Podiatric Medicine          |148617       |3.442229348336857E7 |\n|Doctor of Optometry                   |243641       |2.331802892928546E7 |\n|Certified Registered Nurse Anesthetist|47191        |2143071.420371622   |\n|Clinical Nurse Specialist             |27756        |2023960.0999247283  |\n+--------------------------------------+-------------+--------------------+\n\n"
     ]
    }
   ],
   "source": [
    "# Display top 10 recipient primary types by total amount\n",
    "recipient_type_summary_df.orderBy(\"total_payment_sum\", ascending=False).limit(10).show(truncate=False)"
   ]
  }
 ],
 "metadata": {
  "application/vnd.databricks.v1+notebook": {
   "computePreferences": null,
   "dashboards": [],
   "environmentMetadata": {
    "base_environment": "",
    "environment_version": "1"
   },
   "language": "python",
   "notebookMetadata": {
    "mostRecentlyExecutedCommandWithImplicitDF": {
     "commandId": 3631613044829182,
     "dataframes": [
      "_sqldf"
     ]
    },
    "pythonIndentUnit": 4
   },
   "notebookName": "Week07_assignment_spark",
   "widgets": {}
  },
  "language_info": {
   "name": "python"
  }
 },
 "nbformat": 4,
 "nbformat_minor": 0
}
