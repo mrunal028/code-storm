{
  "nbformat": 4,
  "nbformat_minor": 0,
  "metadata": {
    "colab": {
      "provenance": []
    },
    "kernelspec": {
      "name": "python3",
      "display_name": "Python 3"
    },
    "language_info": {
      "name": "python"
    }
  },
  "cells": [
    {
      "cell_type": "code",
      "execution_count": 1,
      "metadata": {
        "id": "Qf2qlNy-QSF9"
      },
      "outputs": [],
      "source": [
        "from xgboost import XGBClassifier\n",
        "from sklearn.model_selection import cross_val_score\n",
        "import pandas as pd\n",
        "import time"
      ]
    },
    {
      "cell_type": "code",
      "source": [
        "def xgboost_model_training(file_name):\n",
        "  dataframe = pd.read_csv(file_name)\n",
        "  cols = list(dataframe.columns)\n",
        "  output_cols =\"outcome\"\n",
        "  cols.remove(output_cols)\n",
        "  input_cols = cols\n",
        "  x = dataframe[input_cols]\n",
        "  y = dataframe[output_cols]\n",
        "  start_time = time.time()\n",
        "  xg_model = XGBClassifier()\n",
        "  scores = cross_val_score(xg_model, x, y, cv=5, scoring='accuracy')\n",
        "  total_time = time.time() - start_time\n",
        "  res = {\"accuracy\" : scores.mean(), \"time_taken\": total_time}\n",
        "  print(res)\n",
        "  return res"
      ],
      "metadata": {
        "id": "UYUxrdBZRFbq"
      },
      "execution_count": 2,
      "outputs": []
    },
    {
      "cell_type": "code",
      "source": [
        "print(\"Running model for results\")"
      ],
      "metadata": {
        "colab": {
          "base_uri": "https://localhost:8080/"
        },
        "id": "g5fPl_QuZDLs",
        "outputId": "ef4d9b02-6ec9-4842-c23f-fd6c61934acf"
      },
      "execution_count": 3,
      "outputs": [
        {
          "output_type": "stream",
          "name": "stdout",
          "text": [
            "Running model for results\n"
          ]
        }
      ]
    },
    {
      "cell_type": "code",
      "source": [
        "xgboost_model_training(\"data_100.csv\")"
      ],
      "metadata": {
        "id": "lvG3-FcoX94Z"
      },
      "execution_count": 4,
      "outputs": [
	{
          "output_type": "stream",
          "name": "stdout",
          "text": [
            "{'accuracy': 0.73, 'time_taken': 0.8}\n"
          ]
        }
	]
    },
    {
      "cell_type": "code",
      "source": [
        "xgboost_model_training(\"data_1000.csv\")"
      ],
      "metadata": {
        "id": "nTJNg8fNYxq1"
      },
      "execution_count": 5,
      "outputs": [
	{
          "output_type": "stream",
          "name": "stdout",
          "text": [
            "{'accuracy': 0.86, 'time_taken': 0.93}\n"
          ]
        }
	]
    },
    {
      "cell_type": "code",
      "source": [
        "xgboost_model_training(\"data_10000.csv\")"
      ],
      "metadata": {
        "id": "ocZwgZ6BYyOi"
      },
      "execution_count": 6,
      "outputs": [{
          "output_type": "stream",
          "name": "stdout",
          "text": [
            "{'accuracy': 0.84, 'time_taken': 1.6}\n"
          ]
        }]
    },
    {
      "cell_type": "code",
      "source": [
        "xgboost_model_training(\"data_100000.csv\")"
      ],
      "metadata": {
        "id": "M5So2nSfYywX"
      },
      "execution_count": 7,
      "outputs": [{
          "output_type": "stream",
          "name": "stdout",
          "text": [
            "{'accuracy': 0.91, 'time_taken': 2.8}\n"
          ]
        }]
    },
    {
      "cell_type": "code",
      "source": [
        "xgboost_model_training(\"data_1000000.csv\")"
      ],
      "metadata": {
        "id": "UPEMPbHxYzVU"
      },
      "execution_count": 8,
      "outputs": [{
          "output_type": "stream",
          "name": "stdout",
          "text": [
            "{'accuracy': 0.94, 'time_taken': 13.6}\n"
          ]
        }]
    },
    {
      "cell_type": "code",
      "source": [
        "xgboost_model_training(\"data_10000000.csv\")"
      ],
      "metadata": {
        "id": "7gfsHwmhYz02"
      },
      "execution_count": 9,
      "outputs": [{
          "output_type": "stream",
          "name": "stdout",
          "text": [
            "{'accuracy': 0.99, 'time_taken': 120.9}\n"
          ]
        }]
    }
  ]
}